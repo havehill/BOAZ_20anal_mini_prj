{
  "nbformat": 4,
  "nbformat_minor": 0,
  "metadata": {
    "colab": {
      "provenance": [],
      "toc_visible": true,
      "include_colab_link": true
    },
    "kernelspec": {
      "name": "python3",
      "display_name": "Python 3"
    },
    "language_info": {
      "name": "python"
    }
  },
  "cells": [
    {
      "cell_type": "markdown",
      "metadata": {
        "id": "view-in-github",
        "colab_type": "text"
      },
      "source": [
        "<a href=\"https://colab.research.google.com/github/havehill/BOAZ_20anal_mini_prj/blob/EDA/Derived_Variable.ipynb\" target=\"_parent\"><img src=\"https://colab.research.google.com/assets/colab-badge.svg\" alt=\"Open In Colab\"/></a>"
      ]
    },
    {
      "cell_type": "code",
      "source": [
        "from google.colab import drive\n",
        "drive.mount('/content/drive')"
      ],
      "metadata": {
        "colab": {
          "base_uri": "https://localhost:8080/"
        },
        "id": "mjs95s6Uq_Pb",
        "outputId": "b6316b8e-ad8e-4a52-80da-c706594d1c06"
      },
      "execution_count": 1,
      "outputs": [
        {
          "output_type": "stream",
          "name": "stdout",
          "text": [
            "Mounted at /content/drive\n"
          ]
        }
      ]
    },
    {
      "cell_type": "code",
      "execution_count": 2,
      "metadata": {
        "colab": {
          "base_uri": "https://localhost:8080/"
        },
        "id": "c9h0i4N5qQOa",
        "outputId": "dc6a2ad9-2642-4d1a-fbe2-6b4c4c14c12e"
      },
      "outputs": [
        {
          "output_type": "stream",
          "name": "stdout",
          "text": [
            "결측치 확인\n",
            "order_id                              0\n",
            "customer_id                           0\n",
            "order_status                          0\n",
            "order_purchase_timestamp              0\n",
            "order_approved_at                    15\n",
            "order_delivered_carrier_date       1235\n",
            "order_delivered_customer_date      2471\n",
            "order_estimated_delivery_date         0\n",
            "review_id                             0\n",
            "review_score                          0\n",
            "review_comment_title             103437\n",
            "review_comment_message            67650\n",
            "review_creation_date                  0\n",
            "review_answer_timestamp               0\n",
            "payment_sequential                    0\n",
            "payment_type                          0\n",
            "payment_installments                  0\n",
            "payment_value                         0\n",
            "customer_unique_id                    0\n",
            "customer_zip_code_prefix              0\n",
            "customer_city                         0\n",
            "customer_state                        0\n",
            "order_item_id                         0\n",
            "product_id                            0\n",
            "seller_id                             0\n",
            "shipping_limit_date                   0\n",
            "price                                 0\n",
            "freight_value                         0\n",
            "product_category_name              1695\n",
            "product_name_lenght                1695\n",
            "product_description_lenght         1695\n",
            "product_photos_qty                 1695\n",
            "product_weight_g                     20\n",
            "product_length_cm                    20\n",
            "product_height_cm                    20\n",
            "product_width_cm                     20\n",
            "seller_zip_code_prefix                0\n",
            "seller_city                           0\n",
            "seller_state                          0\n",
            "dtype: int64\n"
          ]
        }
      ],
      "source": [
        "import pandas as pd\n",
        "\n",
        "df_raw = pd.read_csv('/content/drive/MyDrive/Brazilian_Customer.csv')\n",
        "print(\"결측치 확인\")\n",
        "print(df_raw.isnull().sum())"
      ]
    },
    {
      "cell_type": "code",
      "source": [
        "# 결측치 제거\n",
        "df_raw = df_raw.drop(['review_comment_title'], axis = 1)\n",
        "df_raw = df_raw.dropna(axis = 0)"
      ],
      "metadata": {
        "id": "D5fMuZK4rFq-"
      },
      "execution_count": 3,
      "outputs": []
    },
    {
      "cell_type": "code",
      "source": [
        "df = df_raw.copy()"
      ],
      "metadata": {
        "id": "mZpx2z3Ozwff"
      },
      "execution_count": 4,
      "outputs": []
    },
    {
      "cell_type": "markdown",
      "source": [
        "#### 배송 관련 파생변수"
      ],
      "metadata": {
        "id": "eJ6jqDDnrtEu"
      }
    },
    {
      "cell_type": "code",
      "source": [
        "df[\"order_purchase_timestamp\"] = pd.to_datetime(df_raw[\"order_purchase_timestamp\"], format='%Y-%m-%d %H:%M:%S')\n",
        "df[\"order_delivered_customer_date\"] = pd.to_datetime(df_raw[\"order_delivered_customer_date\"], format='%Y-%m-%d %H:%M:%S')\n",
        "df[\"order_estimated_delivery_date\"] = pd.to_datetime(df_raw[\"order_estimated_delivery_date\"], format='%Y-%m-%d %H:%M:%S')"
      ],
      "metadata": {
        "id": "f0zBOJAgsNrb"
      },
      "execution_count": 5,
      "outputs": []
    },
    {
      "cell_type": "code",
      "source": [
        "# 배송 기간 변수 : delivery_period\n",
        "\n",
        "df['delivery_period'] = df['order_purchase_timestamp'] - df['order_delivered_customer_date']"
      ],
      "metadata": {
        "id": "vIl3s4tOre8y"
      },
      "execution_count": 6,
      "outputs": []
    },
    {
      "cell_type": "code",
      "source": [
        "# 조기 배송 변수 : early_delivery\n",
        "\n",
        "df['early_delivery'] = df['order_estimated_delivery_date'] - df['order_delivered_customer_date']"
      ],
      "metadata": {
        "id": "sc80pjWlsJ7e"
      },
      "execution_count": 7,
      "outputs": []
    },
    {
      "cell_type": "code",
      "source": [
        "import numpy as np\n",
        "\n",
        "early_delivery_div = []\n",
        "\n",
        "for d in df['early_delivery']:\n",
        "  if(d.days < 0) :\n",
        "    early_delivery_div.append(-1)\n",
        "  elif (d.days == 0) :\n",
        "    early_delivery_div.append(0)\n",
        "  else :\n",
        "    early_delivery_div.append(1)\n",
        "\n",
        "df['early_delivery_div'] = early_delivery_div"
      ],
      "metadata": {
        "id": "8IJ98j3Vt4p_"
      },
      "execution_count": 8,
      "outputs": []
    },
    {
      "cell_type": "code",
      "source": [
        "# 조기 배송 여부 변수 : early_delivery_div\n",
        "\n",
        "df['early_delivery_div'].value_counts()"
      ],
      "metadata": {
        "colab": {
          "base_uri": "https://localhost:8080/"
        },
        "id": "uyPy6zHMveVs",
        "outputId": "4eb84d24-4782-41c6-82c9-49b5f99d7b4b"
      },
      "execution_count": 9,
      "outputs": [
        {
          "output_type": "execute_result",
          "data": {
            "text/plain": [
              " 1    41874\n",
              "-1     4874\n",
              " 0      621\n",
              "Name: early_delivery_div, dtype: int64"
            ]
          },
          "metadata": {},
          "execution_count": 9
        }
      ]
    },
    {
      "cell_type": "markdown",
      "source": [
        "#### 가격 관련 파생 변수"
      ],
      "metadata": {
        "id": "dItBiBEB3sT4"
      }
    },
    {
      "cell_type": "markdown",
      "source": [
        "#####소득 수준 변수"
      ],
      "metadata": {
        "id": "WRUIYevYekcZ"
      }
    },
    {
      "cell_type": "code",
      "source": [
        "income_level = []\n",
        "\n",
        "for p in df['payment_installments']:\n",
        "  if(p >= 0 and p < 8):\n",
        "    income_level.append(2)\n",
        "  elif(p >= 8 and p <16):\n",
        "    income_level.append(1)\n",
        "  else:\n",
        "    income_level.append(0)\n",
        "  \n",
        "df['income_level'] = income_level"
      ],
      "metadata": {
        "id": "Gh35p-Dp1_so"
      },
      "execution_count": 10,
      "outputs": []
    },
    {
      "cell_type": "code",
      "source": [
        "df['income_level'].value_counts(0)"
      ],
      "metadata": {
        "colab": {
          "base_uri": "https://localhost:8080/"
        },
        "id": "5_9qQGyX4bRR",
        "outputId": "54961478-15ac-4c21-82e6-30da84c0414d"
      },
      "execution_count": 11,
      "outputs": [
        {
          "output_type": "execute_result",
          "data": {
            "text/plain": [
              "2    41342\n",
              "1     5964\n",
              "0       63\n",
              "Name: income_level, dtype: int64"
            ]
          },
          "metadata": {},
          "execution_count": 11
        }
      ]
    },
    {
      "cell_type": "markdown",
      "source": [
        "##### 카테고리별 가격 변수 : cat_cheap"
      ],
      "metadata": {
        "id": "OZj4K_JtSvf2"
      }
    },
    {
      "cell_type": "code",
      "source": [
        "cat = df.groupby(['product_category_name'])"
      ],
      "metadata": {
        "id": "Mi4LjFhCVLHD"
      },
      "execution_count": 12,
      "outputs": []
    },
    {
      "cell_type": "code",
      "source": [
        "cat = pd.DataFrame(cat['price'].quantile(0.25))"
      ],
      "metadata": {
        "id": "TrDK9UbxVber"
      },
      "execution_count": 13,
      "outputs": []
    },
    {
      "cell_type": "code",
      "source": [
        "cat = cat.rename(columns = {'price':'price_0.25'})"
      ],
      "metadata": {
        "id": "nshisYnYW_s4"
      },
      "execution_count": 14,
      "outputs": []
    },
    {
      "cell_type": "code",
      "source": [
        "df = pd.merge(df,cat, how='left',on='product_category_name')"
      ],
      "metadata": {
        "id": "PViGcsw_VLDh"
      },
      "execution_count": 15,
      "outputs": []
    },
    {
      "cell_type": "code",
      "source": [
        "df['cat_cheap'] = 0\n",
        "df.loc[df['price'] < df['price_0.25'], 'cat_cheap'] = 1"
      ],
      "metadata": {
        "id": "XwZHralvVK5u"
      },
      "execution_count": 16,
      "outputs": []
    },
    {
      "cell_type": "code",
      "source": [
        "df.cat_cheap.value_counts()"
      ],
      "metadata": {
        "colab": {
          "base_uri": "https://localhost:8080/"
        },
        "id": "juJbJMmEVKoD",
        "outputId": "551df86c-3aa0-4033-8c53-ca281e96720b"
      },
      "execution_count": 17,
      "outputs": [
        {
          "output_type": "execute_result",
          "data": {
            "text/plain": [
              "0    35843\n",
              "1    11526\n",
              "Name: cat_cheap, dtype: int64"
            ]
          },
          "metadata": {},
          "execution_count": 17
        }
      ]
    },
    {
      "cell_type": "code",
      "source": [
        "df = df.drop(['price_0.25'], axis = 1)"
      ],
      "metadata": {
        "id": "L27dpbfEaqn-"
      },
      "execution_count": 18,
      "outputs": []
    },
    {
      "cell_type": "markdown",
      "source": [
        "#### 지역 관련 파생변수"
      ],
      "metadata": {
        "id": "jHDfEb1t_uDm"
      }
    },
    {
      "cell_type": "markdown",
      "source": [
        "##### 지역 구분 : cu_region"
      ],
      "metadata": {
        "id": "b8pXQ8aIfJs1"
      }
    },
    {
      "cell_type": "code",
      "source": [
        "df.loc[df[df['customer_state'].isin(['RR','PA','AP','AM','TO','AC','RO'])].index, 'cu_region'] = 'north'\n",
        "df.loc[df[df['customer_state'].isin(['MA','PE','PI','CE','RN','PB','AL','SE','BA'])].index, 'cu_region'] = 'north east'\n",
        "df.loc[df[df['customer_state'].isin(['MT','GO','DF','MS'])].index, 'cu_region'] = 'mid west'\n",
        "df.loc[df[df['customer_state'].isin(['MG','ES','RJ','SP'])].index, 'cu_region'] = 'south east'\n",
        "df.loc[df[df['customer_state'].isin(['PR','SC','RS'])].index, 'cu_region'] = 'south'"
      ],
      "metadata": {
        "id": "2_Ga4KEtE-oJ"
      },
      "execution_count": 19,
      "outputs": []
    },
    {
      "cell_type": "code",
      "source": [
        "df.cu_region.value_counts()"
      ],
      "metadata": {
        "colab": {
          "base_uri": "https://localhost:8080/"
        },
        "id": "u2auzOpmHN-z",
        "outputId": "8964cd78-8b12-4fab-afc6-7b28ba40a116"
      },
      "execution_count": 20,
      "outputs": [
        {
          "output_type": "execute_result",
          "data": {
            "text/plain": [
              "south east    32183\n",
              "south          6264\n",
              "north east     5164\n",
              "mid west       2805\n",
              "north           953\n",
              "Name: cu_region, dtype: int64"
            ]
          },
          "metadata": {},
          "execution_count": 20
        }
      ]
    },
    {
      "cell_type": "markdown",
      "source": [
        "##### 발전도 낮은 지역 파생변수 : low_develop"
      ],
      "metadata": {
        "id": "zotsmLWpIBMX"
      }
    },
    {
      "cell_type": "code",
      "source": [
        "df['low_develop'] = 0\n",
        "df.loc[df[df.cu_region.isin(['north','north east'])].index, 'low_develop'] = 1"
      ],
      "metadata": {
        "id": "MdSJ5zOuIGco"
      },
      "execution_count": 21,
      "outputs": []
    },
    {
      "cell_type": "code",
      "source": [
        "df.low_develop.value_counts()"
      ],
      "metadata": {
        "colab": {
          "base_uri": "https://localhost:8080/"
        },
        "id": "kM2PtDjYIGAt",
        "outputId": "df20e909-2a39-4a17-af0c-2dfe1c95bd9f"
      },
      "execution_count": 22,
      "outputs": [
        {
          "output_type": "execute_result",
          "data": {
            "text/plain": [
              "0    41252\n",
              "1     6117\n",
              "Name: low_develop, dtype: int64"
            ]
          },
          "metadata": {},
          "execution_count": 22
        }
      ]
    },
    {
      "cell_type": "markdown",
      "source": [
        "#### 카테고리 파생변수"
      ],
      "metadata": {
        "id": "SN7ERHrh7bs5"
      }
    },
    {
      "cell_type": "code",
      "source": [
        "# 카테고리 대분류 변수 : 분류 기준은 노션 > 파생변수 생성 > 카테고리 분류 참고!\n",
        "\n",
        "def switch(x):\n",
        "  return {\n",
        "      'cama_mesa_banho' : 0,\n",
        "      'beleza_saude' : 8,\n",
        "      'esporte_lazer' : 8,\n",
        "      'moveis_decoracao' : 3,\n",
        "      'informatica_acessorios' : 4,\n",
        "      'utilidades_domesticas' : 2,\n",
        "      'relogios_presentes' : 6,\n",
        "      'telefonia' : 4,\n",
        "      'ferramentas_jardim' : 2,\n",
        "      'automotivo' : 5,\n",
        "      'brinquedos' : 6,\n",
        "      'cool_stuff' : 0,\n",
        "      'perfumaria' : 0,\n",
        "      'bebes' : 1,\n",
        "      'eletronicos' : 4,\n",
        "      'papelaria' : 6,\n",
        "      'fashion_bolsas_e_acessorios' : 0,\n",
        "      'pet_shop' : 7,\n",
        "      'moveis_escritorio' : 3,\n",
        "      'consoles_games' : 4,\n",
        "      'malas_acessorios' : 0,\n",
        "      'construcao_ferramentas_construcao' : 3,\n",
        "      'eletrodomesticos' : 4,\n",
        "      'instrumentos_musicais' : 6,\n",
        "      'eletroportateis' : 4,\n",
        "      'casa_construcao' : 3,\n",
        "      'livros_interesse_geral' : 6,\n",
        "      'moveis_sala' : 3,\n",
        "      'alimentos' : 2,\n",
        "      'casa_conforto' : 2,\n",
        "      'bebidas' : 2,\n",
        "      'audio' : 4,\n",
        "      'market_place' : 9,\n",
        "      'construcao_ferramentas_iluminacao' : 3,\n",
        "      'moveis_cozinha_area_de_servico_jantar_e_jardim' : 3,\n",
        "      'climatizacao' : 4,\n",
        "      'alimentos_bebidas' : 2,\n",
        "      'fashion_calcados' : 0,\n",
        "      'telefonia_fixa' : 4,\n",
        "      'industria_comercio_e_negocios' : 9,\n",
        "      'livros_tecnicos' : 6,\n",
        "      'eletrodomesticos_2' : 4,\n",
        "      'agro_industria_e_comercio' : 9,\n",
        "      'construcao_ferramentas_jardim' : 9,\n",
        "      'artes' : 0,\n",
        "      'pcs' : 9,\n",
        "      'sinalizacao_e_seguranca' : 9,\n",
        "      'construcao_ferramentas_seguranca' : 3,\n",
        "      'artigos_de_natal' : 0,\n",
        "      'fashion_roupa_masculina' : 0,\n",
        "      'fashion_underwear_e_moda_praia' : 0,\n",
        "      'moveis_quarto' : 3,\n",
        "      'construcao_ferramentas_ferramentas' : 3,\n",
        "      'tablets_impressao_imagem' : 4,\n",
        "      'portateis_casa_forno_e_cafe' : 2,\n",
        "      'cine_foto' : 6,\n",
        "      'dvds_blu_ray' : 6,\n",
        "      'livros_importados' : 6,\n",
        "      'fashion_roupa_feminina' : 0,\n",
        "      'artigos_de_festas' : 2,\n",
        "      'moveis_colchao_e_estofado' : 2,\n",
        "      'musica' : 9,\n",
        "      'fraldas_higiene' : 2,\n",
        "      'fashion_esporte' : 0,\n",
        "      'flores' : 2,\n",
        "      'casa_conforto_2' : 2,\n",
        "      'artes_e_artesanato' : 0,\n",
        "      'portateis_cozinha_e_preparadores_de_alimentos' : 2,\n",
        "      'la_cuisine' : 2,\n",
        "      'cds_dvds_musicais' : 6,\n",
        "      'pc_gamer' : 4,\n",
        "      'fashion_roupa_infanto_juvenil' : 0,\n",
        "      'seguros_e_servicos' : 9\n",
        "  }.get(x, 9)"
      ],
      "metadata": {
        "id": "qs-kG9aa7frt"
      },
      "execution_count": 23,
      "outputs": []
    },
    {
      "cell_type": "code",
      "source": [
        "product_main_category = []\n",
        "\n",
        "for c in df['product_category_name']:\n",
        "  product_main_category.append(switch(c))\n",
        "\n",
        "df['product_main_category'] = product_main_category"
      ],
      "metadata": {
        "id": "qIb3b8-8phvZ"
      },
      "execution_count": 24,
      "outputs": []
    },
    {
      "cell_type": "markdown",
      "source": [
        "#### 재구매 관련 파생변수"
      ],
      "metadata": {
        "id": "c93L1nWzfp4E"
      }
    },
    {
      "cell_type": "markdown",
      "source": [
        "##### 재구매율 파생변수 : re_percent"
      ],
      "metadata": {
        "id": "imGUDrfKIvqa"
      }
    },
    {
      "cell_type": "code",
      "source": [
        "group = df.groupby(['seller_id'])"
      ],
      "metadata": {
        "id": "11PhuyKNhN8b"
      },
      "execution_count": 26,
      "outputs": []
    },
    {
      "cell_type": "code",
      "source": [
        "d = group.customer_unique_id.nunique() # 스토어별 구매고객"
      ],
      "metadata": {
        "id": "TTKT0ASIBxE4"
      },
      "execution_count": 28,
      "outputs": []
    },
    {
      "cell_type": "code",
      "source": [
        "group2 = df.groupby(['seller_id','customer_unique_id'])"
      ],
      "metadata": {
        "id": "4o3VDTrxH0oX"
      },
      "execution_count": 29,
      "outputs": []
    },
    {
      "cell_type": "code",
      "source": [
        "a = (group2.nunique().order_id > 2).sum(level = 0) # 각 스토어별 재구매한 고객의 수"
      ],
      "metadata": {
        "colab": {
          "base_uri": "https://localhost:8080/"
        },
        "id": "QpxzzDA3LhR4",
        "outputId": "88b5559a-3d89-49b7-fae5-dd119d26b388"
      },
      "execution_count": 30,
      "outputs": [
        {
          "output_type": "stream",
          "name": "stderr",
          "text": [
            "<ipython-input-30-5865e056b5b8>:1: FutureWarning: Using the level keyword in DataFrame and Series aggregations is deprecated and will be removed in a future version. Use groupby instead. df.sum(level=1) should use df.groupby(level=1).sum().\n",
            "  a = (group2.nunique().order_id > 2).sum(level = 0) # 각 스토어별 재구매한 고객의 수\n"
          ]
        }
      ]
    },
    {
      "cell_type": "code",
      "source": [
        "re = pd.DataFrame(a / d)"
      ],
      "metadata": {
        "id": "PdNsVAqUK0Hg"
      },
      "execution_count": 31,
      "outputs": []
    },
    {
      "cell_type": "code",
      "source": [
        "re.rename(columns = {0:'re_percent'}, inplace = True)"
      ],
      "metadata": {
        "id": "qUaAuyyWG-aK"
      },
      "execution_count": 32,
      "outputs": []
    },
    {
      "cell_type": "code",
      "source": [
        "df = pd.merge(df,re, how='left',on='seller_id')"
      ],
      "metadata": {
        "id": "w5eFGgtINBDu"
      },
      "execution_count": 33,
      "outputs": []
    },
    {
      "cell_type": "markdown",
      "source": [
        "##### 재 구매 여부 파생변수 : re_ox"
      ],
      "metadata": {
        "id": "Q_pt-E8CR2XY"
      }
    },
    {
      "cell_type": "code",
      "source": [
        "df['re_ox'] = 0\n",
        "df.loc[df.re_percent != 0, 're_ox'] = 1 "
      ],
      "metadata": {
        "id": "snnPgbiJR4f4"
      },
      "execution_count": 34,
      "outputs": []
    },
    {
      "cell_type": "code",
      "source": [
        "df.re_ox.value_counts()"
      ],
      "metadata": {
        "colab": {
          "base_uri": "https://localhost:8080/"
        },
        "id": "A_xfSrDXSOpD",
        "outputId": "c6dcc453-4dd6-4975-8606-30d1ac808ac9"
      },
      "execution_count": 35,
      "outputs": [
        {
          "output_type": "execute_result",
          "data": {
            "text/plain": [
              "0    45243\n",
              "1     2126\n",
              "Name: re_ox, dtype: int64"
            ]
          },
          "metadata": {},
          "execution_count": 35
        }
      ]
    },
    {
      "cell_type": "markdown",
      "source": [
        "#### 상품 설명 관련 파생변수"
      ],
      "metadata": {
        "id": "obbpGzWxBZef"
      }
    },
    {
      "cell_type": "code",
      "source": [
        "# 상품 정보 전달 정도를 파악할 수 있는 변수 : product_info\n",
        "\n",
        "df['product_info'] = (df['product_photos_qty'] + df['product_description_lenght']) /2"
      ],
      "metadata": {
        "id": "emzhG2S3Bbik"
      },
      "execution_count": 36,
      "outputs": []
    },
    {
      "cell_type": "markdown",
      "source": [
        "#### 상품 크기 관련 파생변수"
      ],
      "metadata": {
        "id": "z-S8zf8yBBpc"
      }
    },
    {
      "cell_type": "code",
      "source": [
        "# 부피 변수 (사각형 부피 공식 사용-박스) : product_size\n",
        "\n",
        "df['product_size'] = df['product_length_cm'] * df['product_width_cm'] * df['product_height_cm']"
      ],
      "metadata": {
        "id": "S8qHf1a0BFCe"
      },
      "execution_count": 37,
      "outputs": []
    },
    {
      "cell_type": "markdown",
      "source": [
        "#### 판매자 관련 파생변수\n",
        "\n",
        "참고 : https://www.kaggle.com/code/khakim17/custumer-satisfaction-prediction-and-analysist#CREATING-ANOTHER-COLUMNS-THAT-NEEDED"
      ],
      "metadata": {
        "id": "F1jP_SqU5WpO"
      }
    },
    {
      "cell_type": "code",
      "source": [
        "# 판매자 등급, 상품 등급, 특정 판매자가 판 상품 개수 변수 (SELLER RATING, PRODUCT RATING AND NUMBER OF PRODUCT SOLD BY SELLER)"
      ],
      "metadata": {
        "id": "inHpl7u_D2Yv"
      },
      "execution_count": 38,
      "outputs": []
    },
    {
      "cell_type": "code",
      "source": [
        "seller_ratingx = {}\n",
        "# product_ratingx = {}\n",
        "product_soldx = {}\n",
        "\n",
        "for item in df['seller_id'].unique():\n",
        "  seller_ratingx[item] = round(df[df['seller_id'] == item].describe().iloc[1][3],1)\n",
        "  product_soldx[item] = int(df[df['seller_id'] == item].describe().iloc[0][0])\n",
        "\n",
        "# for item in df['product_id'].unique():\n",
        "#   product_ratingx[item] = round(df[df['product_id'] == item].describe().iloc[1][3],1)\n",
        "#   product_soldx[item] = int(df[df['seller_id'] == item].describe().iloc[0][0])\n",
        "\n",
        "seller_rating = []\n",
        "product_sold = []\n",
        "for item in df['seller_id']:\n",
        "  seller_rating.append(seller_ratingx[item])\n",
        "  product_sold.append(product_soldx[item])\n",
        "\n",
        "# product_rating = []\n",
        "# for item in df['product_id']:\n",
        "#   product_rating.append(product_ratingx[item])\n",
        "\n",
        "df['seller_rating'] = seller_rating\n",
        "df['product_sold'] = product_sold\n",
        "# df['product_rating'] = product_rating"
      ],
      "metadata": {
        "id": "F2NbtIQXDcCE"
      },
      "execution_count": 39,
      "outputs": []
    },
    {
      "cell_type": "markdown",
      "source": [
        "역시 시간이 오래 걸려서 seller_rating이랑 product_solidx 변수까지만 생성하는 걸로..!"
      ],
      "metadata": {
        "id": "nRojFxGEHsKW"
      }
    },
    {
      "cell_type": "markdown",
      "source": [
        "#### 주문건수 관련 변수"
      ],
      "metadata": {
        "id": "DW6qTywjgNwR"
      }
    },
    {
      "cell_type": "markdown",
      "source": [
        "##### 스토어 주문건수 변수 : seller_popularity"
      ],
      "metadata": {
        "id": "-63-dmS_LLrD"
      }
    },
    {
      "cell_type": "code",
      "source": [
        "group = df.groupby(['seller_id'])"
      ],
      "metadata": {
        "id": "29OsL-3mLQpi"
      },
      "execution_count": 40,
      "outputs": []
    },
    {
      "cell_type": "code",
      "source": [
        "store_popularity = group.order_id.nunique()"
      ],
      "metadata": {
        "id": "SIKy3ULxLaji"
      },
      "execution_count": 41,
      "outputs": []
    },
    {
      "cell_type": "code",
      "source": [
        "store_popularity"
      ],
      "metadata": {
        "colab": {
          "base_uri": "https://localhost:8080/"
        },
        "id": "FtBX-HAL7L2E",
        "outputId": "d569af26-801c-4029-b164-84df988b1150"
      },
      "execution_count": 42,
      "outputs": [
        {
          "output_type": "execute_result",
          "data": {
            "text/plain": [
              "seller_id\n",
              "0015a82c2db000af6aaaf3ae2ecb0532     1\n",
              "001cca7ae9ae17fb1caed9dfb1094831    88\n",
              "002100f778ceb8431b7a1020ff7ab48f    15\n",
              "004c9cd9d87a3c30c522c48c4fc07416    55\n",
              "00720abe85ba0859807595bbf045a33b     5\n",
              "                                    ..\n",
              "ffc470761de7d0232558ba5e786e57b7    11\n",
              "ffdd9f82b9a447f6f8d4b91554cc7dd3     9\n",
              "ffeee66ac5d5a62fe688b9d26f83f534     8\n",
              "fffd5413c0700ac820c7069d66d98c89    25\n",
              "ffff564a4f9085cd26170f4732393726     6\n",
              "Name: order_id, Length: 2385, dtype: int64"
            ]
          },
          "metadata": {},
          "execution_count": 42
        }
      ]
    },
    {
      "cell_type": "code",
      "source": [
        "store_popularity = pd.DataFrame(store_popularity)\n",
        "store_popularity.rename(columns = {'order_id':'seller_popularity'}, inplace = True)"
      ],
      "metadata": {
        "id": "u7qfXdwkLzsv"
      },
      "execution_count": 44,
      "outputs": []
    },
    {
      "cell_type": "code",
      "source": [
        "store_popularity"
      ],
      "metadata": {
        "colab": {
          "base_uri": "https://localhost:8080/",
          "height": 454
        },
        "id": "WdnZ4UQQGzpJ",
        "outputId": "764f80e1-7b0b-4fcf-be1d-3add2e82fcb3"
      },
      "execution_count": 45,
      "outputs": [
        {
          "output_type": "execute_result",
          "data": {
            "text/plain": [
              "                                  seller_popularity\n",
              "seller_id                                          \n",
              "0015a82c2db000af6aaaf3ae2ecb0532                  1\n",
              "001cca7ae9ae17fb1caed9dfb1094831                 88\n",
              "002100f778ceb8431b7a1020ff7ab48f                 15\n",
              "004c9cd9d87a3c30c522c48c4fc07416                 55\n",
              "00720abe85ba0859807595bbf045a33b                  5\n",
              "...                                             ...\n",
              "ffc470761de7d0232558ba5e786e57b7                 11\n",
              "ffdd9f82b9a447f6f8d4b91554cc7dd3                  9\n",
              "ffeee66ac5d5a62fe688b9d26f83f534                  8\n",
              "fffd5413c0700ac820c7069d66d98c89                 25\n",
              "ffff564a4f9085cd26170f4732393726                  6\n",
              "\n",
              "[2385 rows x 1 columns]"
            ],
            "text/html": [
              "\n",
              "  <div id=\"df-a2887e3c-d5bc-496c-8703-ce984510f590\">\n",
              "    <div class=\"colab-df-container\">\n",
              "      <div>\n",
              "<style scoped>\n",
              "    .dataframe tbody tr th:only-of-type {\n",
              "        vertical-align: middle;\n",
              "    }\n",
              "\n",
              "    .dataframe tbody tr th {\n",
              "        vertical-align: top;\n",
              "    }\n",
              "\n",
              "    .dataframe thead th {\n",
              "        text-align: right;\n",
              "    }\n",
              "</style>\n",
              "<table border=\"1\" class=\"dataframe\">\n",
              "  <thead>\n",
              "    <tr style=\"text-align: right;\">\n",
              "      <th></th>\n",
              "      <th>seller_popularity</th>\n",
              "    </tr>\n",
              "    <tr>\n",
              "      <th>seller_id</th>\n",
              "      <th></th>\n",
              "    </tr>\n",
              "  </thead>\n",
              "  <tbody>\n",
              "    <tr>\n",
              "      <th>0015a82c2db000af6aaaf3ae2ecb0532</th>\n",
              "      <td>1</td>\n",
              "    </tr>\n",
              "    <tr>\n",
              "      <th>001cca7ae9ae17fb1caed9dfb1094831</th>\n",
              "      <td>88</td>\n",
              "    </tr>\n",
              "    <tr>\n",
              "      <th>002100f778ceb8431b7a1020ff7ab48f</th>\n",
              "      <td>15</td>\n",
              "    </tr>\n",
              "    <tr>\n",
              "      <th>004c9cd9d87a3c30c522c48c4fc07416</th>\n",
              "      <td>55</td>\n",
              "    </tr>\n",
              "    <tr>\n",
              "      <th>00720abe85ba0859807595bbf045a33b</th>\n",
              "      <td>5</td>\n",
              "    </tr>\n",
              "    <tr>\n",
              "      <th>...</th>\n",
              "      <td>...</td>\n",
              "    </tr>\n",
              "    <tr>\n",
              "      <th>ffc470761de7d0232558ba5e786e57b7</th>\n",
              "      <td>11</td>\n",
              "    </tr>\n",
              "    <tr>\n",
              "      <th>ffdd9f82b9a447f6f8d4b91554cc7dd3</th>\n",
              "      <td>9</td>\n",
              "    </tr>\n",
              "    <tr>\n",
              "      <th>ffeee66ac5d5a62fe688b9d26f83f534</th>\n",
              "      <td>8</td>\n",
              "    </tr>\n",
              "    <tr>\n",
              "      <th>fffd5413c0700ac820c7069d66d98c89</th>\n",
              "      <td>25</td>\n",
              "    </tr>\n",
              "    <tr>\n",
              "      <th>ffff564a4f9085cd26170f4732393726</th>\n",
              "      <td>6</td>\n",
              "    </tr>\n",
              "  </tbody>\n",
              "</table>\n",
              "<p>2385 rows × 1 columns</p>\n",
              "</div>\n",
              "      <button class=\"colab-df-convert\" onclick=\"convertToInteractive('df-a2887e3c-d5bc-496c-8703-ce984510f590')\"\n",
              "              title=\"Convert this dataframe to an interactive table.\"\n",
              "              style=\"display:none;\">\n",
              "        \n",
              "  <svg xmlns=\"http://www.w3.org/2000/svg\" height=\"24px\"viewBox=\"0 0 24 24\"\n",
              "       width=\"24px\">\n",
              "    <path d=\"M0 0h24v24H0V0z\" fill=\"none\"/>\n",
              "    <path d=\"M18.56 5.44l.94 2.06.94-2.06 2.06-.94-2.06-.94-.94-2.06-.94 2.06-2.06.94zm-11 1L8.5 8.5l.94-2.06 2.06-.94-2.06-.94L8.5 2.5l-.94 2.06-2.06.94zm10 10l.94 2.06.94-2.06 2.06-.94-2.06-.94-.94-2.06-.94 2.06-2.06.94z\"/><path d=\"M17.41 7.96l-1.37-1.37c-.4-.4-.92-.59-1.43-.59-.52 0-1.04.2-1.43.59L10.3 9.45l-7.72 7.72c-.78.78-.78 2.05 0 2.83L4 21.41c.39.39.9.59 1.41.59.51 0 1.02-.2 1.41-.59l7.78-7.78 2.81-2.81c.8-.78.8-2.07 0-2.86zM5.41 20L4 18.59l7.72-7.72 1.47 1.35L5.41 20z\"/>\n",
              "  </svg>\n",
              "      </button>\n",
              "      \n",
              "  <style>\n",
              "    .colab-df-container {\n",
              "      display:flex;\n",
              "      flex-wrap:wrap;\n",
              "      gap: 12px;\n",
              "    }\n",
              "\n",
              "    .colab-df-convert {\n",
              "      background-color: #E8F0FE;\n",
              "      border: none;\n",
              "      border-radius: 50%;\n",
              "      cursor: pointer;\n",
              "      display: none;\n",
              "      fill: #1967D2;\n",
              "      height: 32px;\n",
              "      padding: 0 0 0 0;\n",
              "      width: 32px;\n",
              "    }\n",
              "\n",
              "    .colab-df-convert:hover {\n",
              "      background-color: #E2EBFA;\n",
              "      box-shadow: 0px 1px 2px rgba(60, 64, 67, 0.3), 0px 1px 3px 1px rgba(60, 64, 67, 0.15);\n",
              "      fill: #174EA6;\n",
              "    }\n",
              "\n",
              "    [theme=dark] .colab-df-convert {\n",
              "      background-color: #3B4455;\n",
              "      fill: #D2E3FC;\n",
              "    }\n",
              "\n",
              "    [theme=dark] .colab-df-convert:hover {\n",
              "      background-color: #434B5C;\n",
              "      box-shadow: 0px 1px 3px 1px rgba(0, 0, 0, 0.15);\n",
              "      filter: drop-shadow(0px 1px 2px rgba(0, 0, 0, 0.3));\n",
              "      fill: #FFFFFF;\n",
              "    }\n",
              "  </style>\n",
              "\n",
              "      <script>\n",
              "        const buttonEl =\n",
              "          document.querySelector('#df-a2887e3c-d5bc-496c-8703-ce984510f590 button.colab-df-convert');\n",
              "        buttonEl.style.display =\n",
              "          google.colab.kernel.accessAllowed ? 'block' : 'none';\n",
              "\n",
              "        async function convertToInteractive(key) {\n",
              "          const element = document.querySelector('#df-a2887e3c-d5bc-496c-8703-ce984510f590');\n",
              "          const dataTable =\n",
              "            await google.colab.kernel.invokeFunction('convertToInteractive',\n",
              "                                                     [key], {});\n",
              "          if (!dataTable) return;\n",
              "\n",
              "          const docLinkHtml = 'Like what you see? Visit the ' +\n",
              "            '<a target=\"_blank\" href=https://colab.research.google.com/notebooks/data_table.ipynb>data table notebook</a>'\n",
              "            + ' to learn more about interactive tables.';\n",
              "          element.innerHTML = '';\n",
              "          dataTable['output_type'] = 'display_data';\n",
              "          await google.colab.output.renderOutput(dataTable, element);\n",
              "          const docLink = document.createElement('div');\n",
              "          docLink.innerHTML = docLinkHtml;\n",
              "          element.appendChild(docLink);\n",
              "        }\n",
              "      </script>\n",
              "    </div>\n",
              "  </div>\n",
              "  "
            ]
          },
          "metadata": {},
          "execution_count": 45
        }
      ]
    },
    {
      "cell_type": "code",
      "source": [
        "df = pd.merge(df,store_popularity, how='left',on='seller_id')"
      ],
      "metadata": {
        "id": "-FP4rDJK3zcW"
      },
      "execution_count": 46,
      "outputs": []
    },
    {
      "cell_type": "markdown",
      "source": [
        "##### 고객 주문건수 변수 : 'cu_buy'"
      ],
      "metadata": {
        "id": "XeK8Cg-R9swe"
      }
    },
    {
      "cell_type": "code",
      "source": [
        "cu_group = df.groupby(['customer_unique_id'])"
      ],
      "metadata": {
        "id": "Zt0W0U5E900v"
      },
      "execution_count": 47,
      "outputs": []
    },
    {
      "cell_type": "code",
      "source": [
        "cu_buy = cu_group.order_id.nunique()"
      ],
      "metadata": {
        "id": "TTDLaZOr91YY"
      },
      "execution_count": 48,
      "outputs": []
    },
    {
      "cell_type": "code",
      "source": [
        "cu_buy = pd.DataFrame(cu_buy)\n",
        "cu_buy.rename(columns = {'order_id':'cu_buy'}, inplace = True)"
      ],
      "metadata": {
        "id": "U6aYqbSJ91OP"
      },
      "execution_count": 49,
      "outputs": []
    },
    {
      "cell_type": "code",
      "source": [
        "df = pd.merge(df,cu_buy, how='left',on='customer_unique_id')"
      ],
      "metadata": {
        "id": "UQJqKCuy91Mz"
      },
      "execution_count": 50,
      "outputs": []
    },
    {
      "cell_type": "markdown",
      "source": [
        "#### 확인해보기"
      ],
      "metadata": {
        "id": "dgsguSS8jPmd"
      }
    },
    {
      "cell_type": "code",
      "source": [
        "df.info()"
      ],
      "metadata": {
        "colab": {
          "base_uri": "https://localhost:8080/"
        },
        "id": "k2sPqH8gjRvD",
        "outputId": "179e3f13-f119-4d6c-bf93-1849671a7e86"
      },
      "execution_count": 55,
      "outputs": [
        {
          "output_type": "stream",
          "name": "stdout",
          "text": [
            "<class 'pandas.core.frame.DataFrame'>\n",
            "Int64Index: 47369 entries, 0 to 47368\n",
            "Data columns (total 54 columns):\n",
            " #   Column                         Non-Null Count  Dtype          \n",
            "---  ------                         --------------  -----          \n",
            " 0   order_id                       47369 non-null  object         \n",
            " 1   customer_id                    47369 non-null  object         \n",
            " 2   order_status                   47369 non-null  object         \n",
            " 3   order_purchase_timestamp       47369 non-null  datetime64[ns] \n",
            " 4   order_approved_at              47369 non-null  object         \n",
            " 5   order_delivered_carrier_date   47369 non-null  object         \n",
            " 6   order_delivered_customer_date  47369 non-null  datetime64[ns] \n",
            " 7   order_estimated_delivery_date  47369 non-null  datetime64[ns] \n",
            " 8   review_id                      47369 non-null  object         \n",
            " 9   review_score                   47369 non-null  int64          \n",
            " 10  review_comment_message         47369 non-null  object         \n",
            " 11  review_creation_date           47369 non-null  object         \n",
            " 12  review_answer_timestamp        47369 non-null  object         \n",
            " 13  payment_sequential             47369 non-null  int64          \n",
            " 14  payment_type                   47369 non-null  object         \n",
            " 15  payment_installments           47369 non-null  int64          \n",
            " 16  payment_value                  47369 non-null  float64        \n",
            " 17  customer_unique_id             47369 non-null  object         \n",
            " 18  customer_zip_code_prefix       47369 non-null  int64          \n",
            " 19  customer_city                  47369 non-null  object         \n",
            " 20  customer_state                 47369 non-null  object         \n",
            " 21  order_item_id                  47369 non-null  int64          \n",
            " 22  product_id                     47369 non-null  object         \n",
            " 23  seller_id                      47369 non-null  object         \n",
            " 24  shipping_limit_date            47369 non-null  object         \n",
            " 25  price                          47369 non-null  float64        \n",
            " 26  freight_value                  47369 non-null  float64        \n",
            " 27  product_category_name          47369 non-null  object         \n",
            " 28  product_name_lenght            47369 non-null  float64        \n",
            " 29  product_description_lenght     47369 non-null  float64        \n",
            " 30  product_photos_qty             47369 non-null  float64        \n",
            " 31  product_weight_g               47369 non-null  float64        \n",
            " 32  product_length_cm              47369 non-null  float64        \n",
            " 33  product_height_cm              47369 non-null  float64        \n",
            " 34  product_width_cm               47369 non-null  float64        \n",
            " 35  seller_zip_code_prefix         47369 non-null  int64          \n",
            " 36  seller_city                    47369 non-null  object         \n",
            " 37  seller_state                   47369 non-null  object         \n",
            " 38  delivery_period                47369 non-null  timedelta64[ns]\n",
            " 39  early_delivery                 47369 non-null  timedelta64[ns]\n",
            " 40  early_delivery_div             47369 non-null  int64          \n",
            " 41  income_level                   47369 non-null  int64          \n",
            " 42  cat_cheap                      47369 non-null  int64          \n",
            " 43  cu_region                      47369 non-null  object         \n",
            " 44  low_develop                    47369 non-null  int64          \n",
            " 45  product_main_category          47369 non-null  int64          \n",
            " 46  re_percent                     47369 non-null  float64        \n",
            " 47  re_ox                          47369 non-null  int64          \n",
            " 48  product_info                   47369 non-null  float64        \n",
            " 49  product_size                   47369 non-null  float64        \n",
            " 50  seller_rating                  47369 non-null  float64        \n",
            " 51  product_sold                   47369 non-null  int64          \n",
            " 52  seller_popularity              47369 non-null  int64          \n",
            " 53  cu_buy                         47369 non-null  int64          \n",
            "dtypes: datetime64[ns](3), float64(14), int64(15), object(20), timedelta64[ns](2)\n",
            "memory usage: 19.9+ MB\n"
          ]
        }
      ]
    },
    {
      "cell_type": "code",
      "source": [
        "df.loc[:,['seller_popularity','product_sold']]  # product_sold랑 seller_popularity랑 의도한 건 같은 것 같은데 값이 다르게 나온다..."
      ],
      "metadata": {
        "colab": {
          "base_uri": "https://localhost:8080/",
          "height": 423
        },
        "id": "hO-MPKrXiXjj",
        "outputId": "d9365af9-88c7-4ab1-84a2-48209d2dba2e"
      },
      "execution_count": 54,
      "outputs": [
        {
          "output_type": "execute_result",
          "data": {
            "text/plain": [
              "       seller_popularity  product_sold\n",
              "0                     19            22\n",
              "1                     19            22\n",
              "2                     19            22\n",
              "3                     19            22\n",
              "4                     19            22\n",
              "...                  ...           ...\n",
              "47364                  1             1\n",
              "47365                  1             2\n",
              "47366                  1             2\n",
              "47367                  1             1\n",
              "47368                  1             1\n",
              "\n",
              "[47369 rows x 2 columns]"
            ],
            "text/html": [
              "\n",
              "  <div id=\"df-8a153c6c-1913-4105-9fb3-427f789b3c5e\">\n",
              "    <div class=\"colab-df-container\">\n",
              "      <div>\n",
              "<style scoped>\n",
              "    .dataframe tbody tr th:only-of-type {\n",
              "        vertical-align: middle;\n",
              "    }\n",
              "\n",
              "    .dataframe tbody tr th {\n",
              "        vertical-align: top;\n",
              "    }\n",
              "\n",
              "    .dataframe thead th {\n",
              "        text-align: right;\n",
              "    }\n",
              "</style>\n",
              "<table border=\"1\" class=\"dataframe\">\n",
              "  <thead>\n",
              "    <tr style=\"text-align: right;\">\n",
              "      <th></th>\n",
              "      <th>seller_popularity</th>\n",
              "      <th>product_sold</th>\n",
              "    </tr>\n",
              "  </thead>\n",
              "  <tbody>\n",
              "    <tr>\n",
              "      <th>0</th>\n",
              "      <td>19</td>\n",
              "      <td>22</td>\n",
              "    </tr>\n",
              "    <tr>\n",
              "      <th>1</th>\n",
              "      <td>19</td>\n",
              "      <td>22</td>\n",
              "    </tr>\n",
              "    <tr>\n",
              "      <th>2</th>\n",
              "      <td>19</td>\n",
              "      <td>22</td>\n",
              "    </tr>\n",
              "    <tr>\n",
              "      <th>3</th>\n",
              "      <td>19</td>\n",
              "      <td>22</td>\n",
              "    </tr>\n",
              "    <tr>\n",
              "      <th>4</th>\n",
              "      <td>19</td>\n",
              "      <td>22</td>\n",
              "    </tr>\n",
              "    <tr>\n",
              "      <th>...</th>\n",
              "      <td>...</td>\n",
              "      <td>...</td>\n",
              "    </tr>\n",
              "    <tr>\n",
              "      <th>47364</th>\n",
              "      <td>1</td>\n",
              "      <td>1</td>\n",
              "    </tr>\n",
              "    <tr>\n",
              "      <th>47365</th>\n",
              "      <td>1</td>\n",
              "      <td>2</td>\n",
              "    </tr>\n",
              "    <tr>\n",
              "      <th>47366</th>\n",
              "      <td>1</td>\n",
              "      <td>2</td>\n",
              "    </tr>\n",
              "    <tr>\n",
              "      <th>47367</th>\n",
              "      <td>1</td>\n",
              "      <td>1</td>\n",
              "    </tr>\n",
              "    <tr>\n",
              "      <th>47368</th>\n",
              "      <td>1</td>\n",
              "      <td>1</td>\n",
              "    </tr>\n",
              "  </tbody>\n",
              "</table>\n",
              "<p>47369 rows × 2 columns</p>\n",
              "</div>\n",
              "      <button class=\"colab-df-convert\" onclick=\"convertToInteractive('df-8a153c6c-1913-4105-9fb3-427f789b3c5e')\"\n",
              "              title=\"Convert this dataframe to an interactive table.\"\n",
              "              style=\"display:none;\">\n",
              "        \n",
              "  <svg xmlns=\"http://www.w3.org/2000/svg\" height=\"24px\"viewBox=\"0 0 24 24\"\n",
              "       width=\"24px\">\n",
              "    <path d=\"M0 0h24v24H0V0z\" fill=\"none\"/>\n",
              "    <path d=\"M18.56 5.44l.94 2.06.94-2.06 2.06-.94-2.06-.94-.94-2.06-.94 2.06-2.06.94zm-11 1L8.5 8.5l.94-2.06 2.06-.94-2.06-.94L8.5 2.5l-.94 2.06-2.06.94zm10 10l.94 2.06.94-2.06 2.06-.94-2.06-.94-.94-2.06-.94 2.06-2.06.94z\"/><path d=\"M17.41 7.96l-1.37-1.37c-.4-.4-.92-.59-1.43-.59-.52 0-1.04.2-1.43.59L10.3 9.45l-7.72 7.72c-.78.78-.78 2.05 0 2.83L4 21.41c.39.39.9.59 1.41.59.51 0 1.02-.2 1.41-.59l7.78-7.78 2.81-2.81c.8-.78.8-2.07 0-2.86zM5.41 20L4 18.59l7.72-7.72 1.47 1.35L5.41 20z\"/>\n",
              "  </svg>\n",
              "      </button>\n",
              "      \n",
              "  <style>\n",
              "    .colab-df-container {\n",
              "      display:flex;\n",
              "      flex-wrap:wrap;\n",
              "      gap: 12px;\n",
              "    }\n",
              "\n",
              "    .colab-df-convert {\n",
              "      background-color: #E8F0FE;\n",
              "      border: none;\n",
              "      border-radius: 50%;\n",
              "      cursor: pointer;\n",
              "      display: none;\n",
              "      fill: #1967D2;\n",
              "      height: 32px;\n",
              "      padding: 0 0 0 0;\n",
              "      width: 32px;\n",
              "    }\n",
              "\n",
              "    .colab-df-convert:hover {\n",
              "      background-color: #E2EBFA;\n",
              "      box-shadow: 0px 1px 2px rgba(60, 64, 67, 0.3), 0px 1px 3px 1px rgba(60, 64, 67, 0.15);\n",
              "      fill: #174EA6;\n",
              "    }\n",
              "\n",
              "    [theme=dark] .colab-df-convert {\n",
              "      background-color: #3B4455;\n",
              "      fill: #D2E3FC;\n",
              "    }\n",
              "\n",
              "    [theme=dark] .colab-df-convert:hover {\n",
              "      background-color: #434B5C;\n",
              "      box-shadow: 0px 1px 3px 1px rgba(0, 0, 0, 0.15);\n",
              "      filter: drop-shadow(0px 1px 2px rgba(0, 0, 0, 0.3));\n",
              "      fill: #FFFFFF;\n",
              "    }\n",
              "  </style>\n",
              "\n",
              "      <script>\n",
              "        const buttonEl =\n",
              "          document.querySelector('#df-8a153c6c-1913-4105-9fb3-427f789b3c5e button.colab-df-convert');\n",
              "        buttonEl.style.display =\n",
              "          google.colab.kernel.accessAllowed ? 'block' : 'none';\n",
              "\n",
              "        async function convertToInteractive(key) {\n",
              "          const element = document.querySelector('#df-8a153c6c-1913-4105-9fb3-427f789b3c5e');\n",
              "          const dataTable =\n",
              "            await google.colab.kernel.invokeFunction('convertToInteractive',\n",
              "                                                     [key], {});\n",
              "          if (!dataTable) return;\n",
              "\n",
              "          const docLinkHtml = 'Like what you see? Visit the ' +\n",
              "            '<a target=\"_blank\" href=https://colab.research.google.com/notebooks/data_table.ipynb>data table notebook</a>'\n",
              "            + ' to learn more about interactive tables.';\n",
              "          element.innerHTML = '';\n",
              "          dataTable['output_type'] = 'display_data';\n",
              "          await google.colab.output.renderOutput(dataTable, element);\n",
              "          const docLink = document.createElement('div');\n",
              "          docLink.innerHTML = docLinkHtml;\n",
              "          element.appendChild(docLink);\n",
              "        }\n",
              "      </script>\n",
              "    </div>\n",
              "  </div>\n",
              "  "
            ]
          },
          "metadata": {},
          "execution_count": 54
        }
      ]
    },
    {
      "cell_type": "markdown",
      "source": [
        "#### 리뷰 관련 파생변수"
      ],
      "metadata": {
        "id": "RyrJl7GLL4LH"
      }
    },
    {
      "cell_type": "code",
      "source": [
        "# 리뷰 메세지 길이 변수(포르투갈ver) : review_comment_message_len\n",
        "review_comment_message_len = []\n",
        "\n",
        "for m in df['review_comment_message']:\n",
        "  word = list(m.split())\n",
        "  review_comment_message_len.append(len(word))\n",
        "\n",
        "df['review_comment_message_len'] = review_comment_message_len"
      ],
      "metadata": {
        "id": "PpNOie4WOOAK"
      },
      "execution_count": null,
      "outputs": []
    },
    {
      "cell_type": "code",
      "source": [
        "#!pip install googletrans==4.0.0-rc1"
      ],
      "metadata": {
        "id": "pIQb9xdrMY2x"
      },
      "execution_count": null,
      "outputs": []
    },
    {
      "cell_type": "code",
      "source": [
        "# 데이터 저장\n",
        "\n",
        "#df.to_csv('/content/drive/MyDrive/BOAZ-Analysis/미니 프로젝트1/derived_variable.csv', index = False)"
      ],
      "metadata": {
        "id": "WdNQLM59Pxe0"
      },
      "execution_count": null,
      "outputs": []
    },
    {
      "cell_type": "markdown",
      "source": [
        "포르투갈어 -> 영어 번역 후 진행"
      ],
      "metadata": {
        "id": "WskSqjOBxOo7"
      }
    },
    {
      "cell_type": "code",
      "source": [
        "#포르투갈어 -> 영어 번역\n",
        "import googletrans\n",
        "import time\n",
        "import random\n",
        "\n",
        "translator = googletrans.Translator()\n",
        "trans = []\n",
        "\n",
        "for m in df['review_comment_message']:\n",
        "  try:\n",
        "    trans.append(translator.translate(m, src='pt', dest='en').text)\n",
        "    time.sleep(1)\n",
        "  except IndexError:\n",
        "    trans.append('')"
      ],
      "metadata": {
        "colab": {
          "base_uri": "https://localhost:8080/",
          "height": 246
        },
        "id": "T-Ahz91LL9-b",
        "outputId": "c4d81fec-1a5e-4213-f66b-2dd5184ff658"
      },
      "execution_count": null,
      "outputs": [
        {
          "output_type": "error",
          "ename": "KeyboardInterrupt",
          "evalue": "ignored",
          "traceback": [
            "\u001b[0;31m---------------------------------------------------------------------------\u001b[0m",
            "\u001b[0;31mKeyboardInterrupt\u001b[0m                         Traceback (most recent call last)",
            "\u001b[0;32m<ipython-input-149-63c0efaaebef>\u001b[0m in \u001b[0;36m<module>\u001b[0;34m\u001b[0m\n\u001b[1;32m     10\u001b[0m   \u001b[0;32mtry\u001b[0m\u001b[0;34m:\u001b[0m\u001b[0;34m\u001b[0m\u001b[0;34m\u001b[0m\u001b[0m\n\u001b[1;32m     11\u001b[0m     \u001b[0mtrans\u001b[0m\u001b[0;34m.\u001b[0m\u001b[0mappend\u001b[0m\u001b[0;34m(\u001b[0m\u001b[0mtranslator\u001b[0m\u001b[0;34m.\u001b[0m\u001b[0mtranslate\u001b[0m\u001b[0;34m(\u001b[0m\u001b[0mm\u001b[0m\u001b[0;34m,\u001b[0m \u001b[0msrc\u001b[0m\u001b[0;34m=\u001b[0m\u001b[0;34m'pt'\u001b[0m\u001b[0;34m,\u001b[0m \u001b[0mdest\u001b[0m\u001b[0;34m=\u001b[0m\u001b[0;34m'en'\u001b[0m\u001b[0;34m)\u001b[0m\u001b[0;34m.\u001b[0m\u001b[0mtext\u001b[0m\u001b[0;34m)\u001b[0m\u001b[0;34m\u001b[0m\u001b[0;34m\u001b[0m\u001b[0m\n\u001b[0;32m---> 12\u001b[0;31m     \u001b[0mtime\u001b[0m\u001b[0;34m.\u001b[0m\u001b[0msleep\u001b[0m\u001b[0;34m(\u001b[0m\u001b[0;36m1\u001b[0m\u001b[0;34m)\u001b[0m\u001b[0;34m\u001b[0m\u001b[0;34m\u001b[0m\u001b[0m\n\u001b[0m\u001b[1;32m     13\u001b[0m   \u001b[0;32mexcept\u001b[0m \u001b[0mIndexError\u001b[0m\u001b[0;34m:\u001b[0m\u001b[0;34m\u001b[0m\u001b[0;34m\u001b[0m\u001b[0m\n\u001b[1;32m     14\u001b[0m     \u001b[0mtrans\u001b[0m\u001b[0;34m.\u001b[0m\u001b[0mappend\u001b[0m\u001b[0;34m(\u001b[0m\u001b[0;34m''\u001b[0m\u001b[0;34m)\u001b[0m\u001b[0;34m\u001b[0m\u001b[0;34m\u001b[0m\u001b[0m\n",
            "\u001b[0;31mKeyboardInterrupt\u001b[0m: "
          ]
        }
      ]
    },
    {
      "cell_type": "code",
      "source": [
        "len(trans)"
      ],
      "metadata": {
        "colab": {
          "base_uri": "https://localhost:8080/"
        },
        "id": "lPq15JJdw2MR",
        "outputId": "642f8155-2832-4c1f-e163-c0f4ccbf58f7"
      },
      "execution_count": null,
      "outputs": [
        {
          "output_type": "execute_result",
          "data": {
            "text/plain": [
              "5300"
            ]
          },
          "metadata": {},
          "execution_count": 151
        }
      ]
    },
    {
      "cell_type": "markdown",
      "source": [
        "너무 오래걸려서 ,,, 약 5천개까지만 번역"
      ],
      "metadata": {
        "id": "RpaqwTlKxVK8"
      }
    },
    {
      "cell_type": "markdown",
      "source": [
        "#### NLP"
      ],
      "metadata": {
        "id": "b9FeMtdmyVJ6"
      }
    },
    {
      "cell_type": "code",
      "source": [
        "df_nlp = df.copy()"
      ],
      "metadata": {
        "id": "Id0-KLllyO6J"
      },
      "execution_count": null,
      "outputs": []
    },
    {
      "cell_type": "code",
      "source": [
        "df_nlp = df_nlp.iloc[:5300, :]"
      ],
      "metadata": {
        "id": "_-24Zq5fytHM"
      },
      "execution_count": null,
      "outputs": []
    },
    {
      "cell_type": "code",
      "source": [
        "df_nlp['review_eng'] = trans\n",
        "\n",
        "df_nlp.head(5)"
      ],
      "metadata": {
        "colab": {
          "base_uri": "https://localhost:8080/",
          "height": 629
        },
        "id": "sm7viTzFylrc",
        "outputId": "e28fd223-c69e-48e5-be12-5e013435307d"
      },
      "execution_count": null,
      "outputs": [
        {
          "output_type": "execute_result",
          "data": {
            "text/plain": [
              "                           order_id                       customer_id  \\\n",
              "0  e481f51cbdc54678b7cc49136f2d6af7  9ef432eb6251297304e76186b10a928d   \n",
              "1  e481f51cbdc54678b7cc49136f2d6af7  9ef432eb6251297304e76186b10a928d   \n",
              "2  e481f51cbdc54678b7cc49136f2d6af7  9ef432eb6251297304e76186b10a928d   \n",
              "3  128e10d95713541c87cd1a2e48201934  a20e8105f23924cd00833fd87daa0831   \n",
              "4  0e7e841ddf8f8f2de2bad69267ecfbcf  26c7ac168e1433912a51b924fbd34d34   \n",
              "\n",
              "  order_status order_purchase_timestamp    order_approved_at  \\\n",
              "0    delivered      2017-10-02 10:56:33  2017-10-02 11:07:15   \n",
              "1    delivered      2017-10-02 10:56:33  2017-10-02 11:07:15   \n",
              "2    delivered      2017-10-02 10:56:33  2017-10-02 11:07:15   \n",
              "3    delivered      2017-08-15 18:29:31  2017-08-15 20:05:16   \n",
              "4    delivered      2017-08-02 18:24:47  2017-08-02 18:43:15   \n",
              "\n",
              "  order_delivered_carrier_date order_delivered_customer_date  \\\n",
              "0          2017-10-04 19:55:00           2017-10-10 21:25:13   \n",
              "1          2017-10-04 19:55:00           2017-10-10 21:25:13   \n",
              "2          2017-10-04 19:55:00           2017-10-10 21:25:13   \n",
              "3          2017-08-17 15:28:33           2017-08-18 14:44:43   \n",
              "4          2017-08-04 17:35:43           2017-08-07 18:30:01   \n",
              "\n",
              "  order_estimated_delivery_date                         review_id  \\\n",
              "0                    2017-10-18  a54f0611adc9ed256b57ede6b6eb5114   \n",
              "1                    2017-10-18  a54f0611adc9ed256b57ede6b6eb5114   \n",
              "2                    2017-10-18  a54f0611adc9ed256b57ede6b6eb5114   \n",
              "3                    2017-08-28  b46f1e34512b0f4c74a72398b03ca788   \n",
              "4                    2017-08-15  dc90f19c2806f1abba9e72ad3c350073   \n",
              "\n",
              "   review_score  ... seller_state   delivery_period  early_delivery  \\\n",
              "0             4  ...           SP -9 days +13:31:20 7 days 02:34:47   \n",
              "1             4  ...           SP -9 days +13:31:20 7 days 02:34:47   \n",
              "2             4  ...           SP -9 days +13:31:20 7 days 02:34:47   \n",
              "3             4  ...           SP -3 days +03:44:48 9 days 09:15:17   \n",
              "4             5  ...           SP -6 days +23:54:46 7 days 05:29:59   \n",
              "\n",
              "   early_delivery_div income_level  product_size  product_info  \\\n",
              "0                   1            2        1976.0         136.0   \n",
              "1                   1            2        1976.0         136.0   \n",
              "2                   1            2        1976.0         136.0   \n",
              "3                   1            2        1976.0         136.0   \n",
              "4                   1            2        1976.0         136.0   \n",
              "\n",
              "  review_comment_message_len  product_main_category  \\\n",
              "0                         32                      2   \n",
              "1                         32                      2   \n",
              "2                         32                      2   \n",
              "3                         15                      2   \n",
              "4                         12                      2   \n",
              "\n",
              "                                          review_eng  \n",
              "0  I haven't tested the product yet, but it came ...  \n",
              "1  I haven't tested the product yet, but it came ...  \n",
              "2  I haven't tested the product yet, but it came ...  \n",
              "3  They should pack the product better.The box ca...  \n",
              "4  I only found her small for six cups, but it's ...  \n",
              "\n",
              "[5 rows x 47 columns]"
            ],
            "text/html": [
              "\n",
              "  <div id=\"df-1f4c3eed-f60d-4346-99b3-067fa55eff11\">\n",
              "    <div class=\"colab-df-container\">\n",
              "      <div>\n",
              "<style scoped>\n",
              "    .dataframe tbody tr th:only-of-type {\n",
              "        vertical-align: middle;\n",
              "    }\n",
              "\n",
              "    .dataframe tbody tr th {\n",
              "        vertical-align: top;\n",
              "    }\n",
              "\n",
              "    .dataframe thead th {\n",
              "        text-align: right;\n",
              "    }\n",
              "</style>\n",
              "<table border=\"1\" class=\"dataframe\">\n",
              "  <thead>\n",
              "    <tr style=\"text-align: right;\">\n",
              "      <th></th>\n",
              "      <th>order_id</th>\n",
              "      <th>customer_id</th>\n",
              "      <th>order_status</th>\n",
              "      <th>order_purchase_timestamp</th>\n",
              "      <th>order_approved_at</th>\n",
              "      <th>order_delivered_carrier_date</th>\n",
              "      <th>order_delivered_customer_date</th>\n",
              "      <th>order_estimated_delivery_date</th>\n",
              "      <th>review_id</th>\n",
              "      <th>review_score</th>\n",
              "      <th>...</th>\n",
              "      <th>seller_state</th>\n",
              "      <th>delivery_period</th>\n",
              "      <th>early_delivery</th>\n",
              "      <th>early_delivery_div</th>\n",
              "      <th>income_level</th>\n",
              "      <th>product_size</th>\n",
              "      <th>product_info</th>\n",
              "      <th>review_comment_message_len</th>\n",
              "      <th>product_main_category</th>\n",
              "      <th>review_eng</th>\n",
              "    </tr>\n",
              "  </thead>\n",
              "  <tbody>\n",
              "    <tr>\n",
              "      <th>0</th>\n",
              "      <td>e481f51cbdc54678b7cc49136f2d6af7</td>\n",
              "      <td>9ef432eb6251297304e76186b10a928d</td>\n",
              "      <td>delivered</td>\n",
              "      <td>2017-10-02 10:56:33</td>\n",
              "      <td>2017-10-02 11:07:15</td>\n",
              "      <td>2017-10-04 19:55:00</td>\n",
              "      <td>2017-10-10 21:25:13</td>\n",
              "      <td>2017-10-18</td>\n",
              "      <td>a54f0611adc9ed256b57ede6b6eb5114</td>\n",
              "      <td>4</td>\n",
              "      <td>...</td>\n",
              "      <td>SP</td>\n",
              "      <td>-9 days +13:31:20</td>\n",
              "      <td>7 days 02:34:47</td>\n",
              "      <td>1</td>\n",
              "      <td>2</td>\n",
              "      <td>1976.0</td>\n",
              "      <td>136.0</td>\n",
              "      <td>32</td>\n",
              "      <td>2</td>\n",
              "      <td>I haven't tested the product yet, but it came ...</td>\n",
              "    </tr>\n",
              "    <tr>\n",
              "      <th>1</th>\n",
              "      <td>e481f51cbdc54678b7cc49136f2d6af7</td>\n",
              "      <td>9ef432eb6251297304e76186b10a928d</td>\n",
              "      <td>delivered</td>\n",
              "      <td>2017-10-02 10:56:33</td>\n",
              "      <td>2017-10-02 11:07:15</td>\n",
              "      <td>2017-10-04 19:55:00</td>\n",
              "      <td>2017-10-10 21:25:13</td>\n",
              "      <td>2017-10-18</td>\n",
              "      <td>a54f0611adc9ed256b57ede6b6eb5114</td>\n",
              "      <td>4</td>\n",
              "      <td>...</td>\n",
              "      <td>SP</td>\n",
              "      <td>-9 days +13:31:20</td>\n",
              "      <td>7 days 02:34:47</td>\n",
              "      <td>1</td>\n",
              "      <td>2</td>\n",
              "      <td>1976.0</td>\n",
              "      <td>136.0</td>\n",
              "      <td>32</td>\n",
              "      <td>2</td>\n",
              "      <td>I haven't tested the product yet, but it came ...</td>\n",
              "    </tr>\n",
              "    <tr>\n",
              "      <th>2</th>\n",
              "      <td>e481f51cbdc54678b7cc49136f2d6af7</td>\n",
              "      <td>9ef432eb6251297304e76186b10a928d</td>\n",
              "      <td>delivered</td>\n",
              "      <td>2017-10-02 10:56:33</td>\n",
              "      <td>2017-10-02 11:07:15</td>\n",
              "      <td>2017-10-04 19:55:00</td>\n",
              "      <td>2017-10-10 21:25:13</td>\n",
              "      <td>2017-10-18</td>\n",
              "      <td>a54f0611adc9ed256b57ede6b6eb5114</td>\n",
              "      <td>4</td>\n",
              "      <td>...</td>\n",
              "      <td>SP</td>\n",
              "      <td>-9 days +13:31:20</td>\n",
              "      <td>7 days 02:34:47</td>\n",
              "      <td>1</td>\n",
              "      <td>2</td>\n",
              "      <td>1976.0</td>\n",
              "      <td>136.0</td>\n",
              "      <td>32</td>\n",
              "      <td>2</td>\n",
              "      <td>I haven't tested the product yet, but it came ...</td>\n",
              "    </tr>\n",
              "    <tr>\n",
              "      <th>3</th>\n",
              "      <td>128e10d95713541c87cd1a2e48201934</td>\n",
              "      <td>a20e8105f23924cd00833fd87daa0831</td>\n",
              "      <td>delivered</td>\n",
              "      <td>2017-08-15 18:29:31</td>\n",
              "      <td>2017-08-15 20:05:16</td>\n",
              "      <td>2017-08-17 15:28:33</td>\n",
              "      <td>2017-08-18 14:44:43</td>\n",
              "      <td>2017-08-28</td>\n",
              "      <td>b46f1e34512b0f4c74a72398b03ca788</td>\n",
              "      <td>4</td>\n",
              "      <td>...</td>\n",
              "      <td>SP</td>\n",
              "      <td>-3 days +03:44:48</td>\n",
              "      <td>9 days 09:15:17</td>\n",
              "      <td>1</td>\n",
              "      <td>2</td>\n",
              "      <td>1976.0</td>\n",
              "      <td>136.0</td>\n",
              "      <td>15</td>\n",
              "      <td>2</td>\n",
              "      <td>They should pack the product better.The box ca...</td>\n",
              "    </tr>\n",
              "    <tr>\n",
              "      <th>4</th>\n",
              "      <td>0e7e841ddf8f8f2de2bad69267ecfbcf</td>\n",
              "      <td>26c7ac168e1433912a51b924fbd34d34</td>\n",
              "      <td>delivered</td>\n",
              "      <td>2017-08-02 18:24:47</td>\n",
              "      <td>2017-08-02 18:43:15</td>\n",
              "      <td>2017-08-04 17:35:43</td>\n",
              "      <td>2017-08-07 18:30:01</td>\n",
              "      <td>2017-08-15</td>\n",
              "      <td>dc90f19c2806f1abba9e72ad3c350073</td>\n",
              "      <td>5</td>\n",
              "      <td>...</td>\n",
              "      <td>SP</td>\n",
              "      <td>-6 days +23:54:46</td>\n",
              "      <td>7 days 05:29:59</td>\n",
              "      <td>1</td>\n",
              "      <td>2</td>\n",
              "      <td>1976.0</td>\n",
              "      <td>136.0</td>\n",
              "      <td>12</td>\n",
              "      <td>2</td>\n",
              "      <td>I only found her small for six cups, but it's ...</td>\n",
              "    </tr>\n",
              "  </tbody>\n",
              "</table>\n",
              "<p>5 rows × 47 columns</p>\n",
              "</div>\n",
              "      <button class=\"colab-df-convert\" onclick=\"convertToInteractive('df-1f4c3eed-f60d-4346-99b3-067fa55eff11')\"\n",
              "              title=\"Convert this dataframe to an interactive table.\"\n",
              "              style=\"display:none;\">\n",
              "        \n",
              "  <svg xmlns=\"http://www.w3.org/2000/svg\" height=\"24px\"viewBox=\"0 0 24 24\"\n",
              "       width=\"24px\">\n",
              "    <path d=\"M0 0h24v24H0V0z\" fill=\"none\"/>\n",
              "    <path d=\"M18.56 5.44l.94 2.06.94-2.06 2.06-.94-2.06-.94-.94-2.06-.94 2.06-2.06.94zm-11 1L8.5 8.5l.94-2.06 2.06-.94-2.06-.94L8.5 2.5l-.94 2.06-2.06.94zm10 10l.94 2.06.94-2.06 2.06-.94-2.06-.94-.94-2.06-.94 2.06-2.06.94z\"/><path d=\"M17.41 7.96l-1.37-1.37c-.4-.4-.92-.59-1.43-.59-.52 0-1.04.2-1.43.59L10.3 9.45l-7.72 7.72c-.78.78-.78 2.05 0 2.83L4 21.41c.39.39.9.59 1.41.59.51 0 1.02-.2 1.41-.59l7.78-7.78 2.81-2.81c.8-.78.8-2.07 0-2.86zM5.41 20L4 18.59l7.72-7.72 1.47 1.35L5.41 20z\"/>\n",
              "  </svg>\n",
              "      </button>\n",
              "      \n",
              "  <style>\n",
              "    .colab-df-container {\n",
              "      display:flex;\n",
              "      flex-wrap:wrap;\n",
              "      gap: 12px;\n",
              "    }\n",
              "\n",
              "    .colab-df-convert {\n",
              "      background-color: #E8F0FE;\n",
              "      border: none;\n",
              "      border-radius: 50%;\n",
              "      cursor: pointer;\n",
              "      display: none;\n",
              "      fill: #1967D2;\n",
              "      height: 32px;\n",
              "      padding: 0 0 0 0;\n",
              "      width: 32px;\n",
              "    }\n",
              "\n",
              "    .colab-df-convert:hover {\n",
              "      background-color: #E2EBFA;\n",
              "      box-shadow: 0px 1px 2px rgba(60, 64, 67, 0.3), 0px 1px 3px 1px rgba(60, 64, 67, 0.15);\n",
              "      fill: #174EA6;\n",
              "    }\n",
              "\n",
              "    [theme=dark] .colab-df-convert {\n",
              "      background-color: #3B4455;\n",
              "      fill: #D2E3FC;\n",
              "    }\n",
              "\n",
              "    [theme=dark] .colab-df-convert:hover {\n",
              "      background-color: #434B5C;\n",
              "      box-shadow: 0px 1px 3px 1px rgba(0, 0, 0, 0.15);\n",
              "      filter: drop-shadow(0px 1px 2px rgba(0, 0, 0, 0.3));\n",
              "      fill: #FFFFFF;\n",
              "    }\n",
              "  </style>\n",
              "\n",
              "      <script>\n",
              "        const buttonEl =\n",
              "          document.querySelector('#df-1f4c3eed-f60d-4346-99b3-067fa55eff11 button.colab-df-convert');\n",
              "        buttonEl.style.display =\n",
              "          google.colab.kernel.accessAllowed ? 'block' : 'none';\n",
              "\n",
              "        async function convertToInteractive(key) {\n",
              "          const element = document.querySelector('#df-1f4c3eed-f60d-4346-99b3-067fa55eff11');\n",
              "          const dataTable =\n",
              "            await google.colab.kernel.invokeFunction('convertToInteractive',\n",
              "                                                     [key], {});\n",
              "          if (!dataTable) return;\n",
              "\n",
              "          const docLinkHtml = 'Like what you see? Visit the ' +\n",
              "            '<a target=\"_blank\" href=https://colab.research.google.com/notebooks/data_table.ipynb>data table notebook</a>'\n",
              "            + ' to learn more about interactive tables.';\n",
              "          element.innerHTML = '';\n",
              "          dataTable['output_type'] = 'display_data';\n",
              "          await google.colab.output.renderOutput(dataTable, element);\n",
              "          const docLink = document.createElement('div');\n",
              "          docLink.innerHTML = docLinkHtml;\n",
              "          element.appendChild(docLink);\n",
              "        }\n",
              "      </script>\n",
              "    </div>\n",
              "  </div>\n",
              "  "
            ]
          },
          "metadata": {},
          "execution_count": 167
        }
      ]
    },
    {
      "cell_type": "code",
      "source": [
        "# 영문자 외 공백으로 변환\n",
        "import re\n",
        "\n",
        "for r in df_nlp['review_eng']:\n",
        "  r = re.sub('[^a-zA-Z]', ' ', r)"
      ],
      "metadata": {
        "id": "t6Db2EQEzYcN"
      },
      "execution_count": null,
      "outputs": []
    },
    {
      "cell_type": "code",
      "source": [
        "# 대문자 => 소문자 변환 + split\n",
        "\n",
        "low = []\n",
        "\n",
        "for r in df_nlp['review_eng']:\n",
        "  low.append(r.lower().split())"
      ],
      "metadata": {
        "id": "IeRCthHBzw4f"
      },
      "execution_count": null,
      "outputs": []
    },
    {
      "cell_type": "code",
      "source": [
        "df_nlp['review_split'] = low"
      ],
      "metadata": {
        "id": "WY2K8zxL0bp0"
      },
      "execution_count": null,
      "outputs": []
    },
    {
      "cell_type": "code",
      "source": [
        "# 불용어 제거\n",
        "import nltk\n",
        "from nltk.corpus import stopwords\n",
        "nltk.download('stopwords')\n",
        "\n",
        "\n",
        "stops = set(stopwords.words('english')) # 영어 불용어 set\n",
        "for words in df_nlp['review_split']:\n",
        "  words=[w for w in words if not w in stops]"
      ],
      "metadata": {
        "colab": {
          "base_uri": "https://localhost:8080/"
        },
        "id": "NVPIY61s0MXr",
        "outputId": "db9c9c44-4802-4805-d74b-24f4b0b92539"
      },
      "execution_count": null,
      "outputs": [
        {
          "output_type": "stream",
          "name": "stderr",
          "text": [
            "[nltk_data] Downloading package stopwords to /root/nltk_data...\n",
            "[nltk_data]   Package stopwords is already up-to-date!\n"
          ]
        }
      ]
    },
    {
      "cell_type": "code",
      "source": [],
      "metadata": {
        "id": "1ucwcsiC4x9m"
      },
      "execution_count": null,
      "outputs": []
    }
  ]
}